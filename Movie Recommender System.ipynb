{
 "cells": [
  {
   "cell_type": "markdown",
   "metadata": {},
   "source": [
    "Final Project Submission\n",
    "\n",
    "Student name: Deon Durrant\n",
    "\n",
    "Student pace: self paced\n",
    "\n",
    "Scheduled project review date/time:\n",
    "\n",
    "Instructor name: Mark Bardour"
   ]
  },
  {
   "cell_type": "markdown",
   "metadata": {},
   "source": [
    "Business and Data Understanding\n",
    "\n",
    "The King Isle event coordinator is responsible for organizing and recommending movie screenings for the residents of the island. The coordinator's goal is to ensure that each resident is offered movies they are more inclined to watch and enjoy based on their previous movie preferences. King Isle’s movie recommendation system should be able to provide tailored movie suggestions for each resident, allowing them to have a more enjoyable viewing experience.\n",
    "\n",
    "Problem Statement:\n",
    "The event coordinator needs to provide top 5 personalized movie recommendations to each resident based on their previous movie ratings. By analyzing the historical ratings given by residents to other movies, the system should predict which movies each resident would likely enjoy in the future and prioritize the highest-rated ones."
   ]
  },
  {
   "cell_type": "markdown",
   "metadata": {},
   "source": [
    "# Exploratory Data Analysis\n"
   ]
  },
  {
   "cell_type": "code",
   "execution_count": 1,
   "metadata": {},
   "outputs": [
    {
     "name": "stdout",
     "output_type": "stream",
     "text": [
      "<class 'pandas.core.frame.DataFrame'>\n",
      "RangeIndex: 100836 entries, 0 to 100835\n",
      "Data columns (total 4 columns):\n",
      " #   Column     Non-Null Count   Dtype  \n",
      "---  ------     --------------   -----  \n",
      " 0   userId     100836 non-null  int64  \n",
      " 1   movieId    100836 non-null  int64  \n",
      " 2   rating     100836 non-null  float64\n",
      " 3   timestamp  100836 non-null  int64  \n",
      "dtypes: float64(1), int64(3)\n",
      "memory usage: 3.1 MB\n"
     ]
    }
   ],
   "source": [
    "# Data collection \n",
    "import pandas as pd\n",
    "df = pd.read_csv('ratings.csv')\n",
    "df.info()"
   ]
  },
  {
   "cell_type": "code",
   "execution_count": 2,
   "metadata": {},
   "outputs": [
    {
     "data": {
      "text/plain": [
       "userId       0\n",
       "movieId      0\n",
       "rating       0\n",
       "timestamp    0\n",
       "dtype: int64"
      ]
     },
     "execution_count": 2,
     "metadata": {},
     "output_type": "execute_result"
    }
   ],
   "source": [
    "df.isna().sum()"
   ]
  },
  {
   "cell_type": "code",
   "execution_count": 3,
   "metadata": {},
   "outputs": [
    {
     "data": {
      "text/html": [
       "<div>\n",
       "<style scoped>\n",
       "    .dataframe tbody tr th:only-of-type {\n",
       "        vertical-align: middle;\n",
       "    }\n",
       "\n",
       "    .dataframe tbody tr th {\n",
       "        vertical-align: top;\n",
       "    }\n",
       "\n",
       "    .dataframe thead th {\n",
       "        text-align: right;\n",
       "    }\n",
       "</style>\n",
       "<table border=\"1\" class=\"dataframe\">\n",
       "  <thead>\n",
       "    <tr style=\"text-align: right;\">\n",
       "      <th></th>\n",
       "      <th>userId</th>\n",
       "      <th>movieId</th>\n",
       "      <th>rating</th>\n",
       "      <th>timestamp</th>\n",
       "      <th>datetime</th>\n",
       "      <th>year</th>\n",
       "    </tr>\n",
       "  </thead>\n",
       "  <tbody>\n",
       "    <tr>\n",
       "      <th>0</th>\n",
       "      <td>1</td>\n",
       "      <td>1</td>\n",
       "      <td>4.0</td>\n",
       "      <td>964982703</td>\n",
       "      <td>2000-07-30 18:45:03</td>\n",
       "      <td>2000</td>\n",
       "    </tr>\n",
       "    <tr>\n",
       "      <th>1</th>\n",
       "      <td>1</td>\n",
       "      <td>3</td>\n",
       "      <td>4.0</td>\n",
       "      <td>964981247</td>\n",
       "      <td>2000-07-30 18:20:47</td>\n",
       "      <td>2000</td>\n",
       "    </tr>\n",
       "    <tr>\n",
       "      <th>2</th>\n",
       "      <td>1</td>\n",
       "      <td>6</td>\n",
       "      <td>4.0</td>\n",
       "      <td>964982224</td>\n",
       "      <td>2000-07-30 18:37:04</td>\n",
       "      <td>2000</td>\n",
       "    </tr>\n",
       "    <tr>\n",
       "      <th>3</th>\n",
       "      <td>1</td>\n",
       "      <td>47</td>\n",
       "      <td>5.0</td>\n",
       "      <td>964983815</td>\n",
       "      <td>2000-07-30 19:03:35</td>\n",
       "      <td>2000</td>\n",
       "    </tr>\n",
       "    <tr>\n",
       "      <th>4</th>\n",
       "      <td>1</td>\n",
       "      <td>50</td>\n",
       "      <td>5.0</td>\n",
       "      <td>964982931</td>\n",
       "      <td>2000-07-30 18:48:51</td>\n",
       "      <td>2000</td>\n",
       "    </tr>\n",
       "  </tbody>\n",
       "</table>\n",
       "</div>"
      ],
      "text/plain": [
       "   userId  movieId  rating  timestamp            datetime  year\n",
       "0       1        1     4.0  964982703 2000-07-30 18:45:03  2000\n",
       "1       1        3     4.0  964981247 2000-07-30 18:20:47  2000\n",
       "2       1        6     4.0  964982224 2000-07-30 18:37:04  2000\n",
       "3       1       47     5.0  964983815 2000-07-30 19:03:35  2000\n",
       "4       1       50     5.0  964982931 2000-07-30 18:48:51  2000"
      ]
     },
     "execution_count": 3,
     "metadata": {},
     "output_type": "execute_result"
    }
   ],
   "source": [
    "# Convert the Unix timestamp to a datetime format\n",
    "df['datetime'] = pd.to_datetime(df['timestamp'], unit='s')\n",
    "\n",
    "# Extract the year from the datetime\n",
    "df['year'] = df['datetime'].dt.year\n",
    "\n",
    "df.head()"
   ]
  },
  {
   "cell_type": "markdown",
   "metadata": {},
   "source": [
    "The ratings dataset has 100836 entries in four columns. There are no missing values. "
   ]
  },
  {
   "cell_type": "code",
   "execution_count": 4,
   "metadata": {},
   "outputs": [
    {
     "data": {
      "text/html": [
       "<div>\n",
       "<style scoped>\n",
       "    .dataframe tbody tr th:only-of-type {\n",
       "        vertical-align: middle;\n",
       "    }\n",
       "\n",
       "    .dataframe tbody tr th {\n",
       "        vertical-align: top;\n",
       "    }\n",
       "\n",
       "    .dataframe thead th {\n",
       "        text-align: right;\n",
       "    }\n",
       "</style>\n",
       "<table border=\"1\" class=\"dataframe\">\n",
       "  <thead>\n",
       "    <tr style=\"text-align: right;\">\n",
       "      <th></th>\n",
       "      <th>userId</th>\n",
       "      <th>movieId</th>\n",
       "      <th>rating</th>\n",
       "      <th>year</th>\n",
       "    </tr>\n",
       "  </thead>\n",
       "  <tbody>\n",
       "    <tr>\n",
       "      <th>0</th>\n",
       "      <td>1</td>\n",
       "      <td>1</td>\n",
       "      <td>4.0</td>\n",
       "      <td>2000</td>\n",
       "    </tr>\n",
       "    <tr>\n",
       "      <th>1</th>\n",
       "      <td>1</td>\n",
       "      <td>3</td>\n",
       "      <td>4.0</td>\n",
       "      <td>2000</td>\n",
       "    </tr>\n",
       "    <tr>\n",
       "      <th>2</th>\n",
       "      <td>1</td>\n",
       "      <td>6</td>\n",
       "      <td>4.0</td>\n",
       "      <td>2000</td>\n",
       "    </tr>\n",
       "    <tr>\n",
       "      <th>3</th>\n",
       "      <td>1</td>\n",
       "      <td>47</td>\n",
       "      <td>5.0</td>\n",
       "      <td>2000</td>\n",
       "    </tr>\n",
       "    <tr>\n",
       "      <th>4</th>\n",
       "      <td>1</td>\n",
       "      <td>50</td>\n",
       "      <td>5.0</td>\n",
       "      <td>2000</td>\n",
       "    </tr>\n",
       "  </tbody>\n",
       "</table>\n",
       "</div>"
      ],
      "text/plain": [
       "   userId  movieId  rating  year\n",
       "0       1        1     4.0  2000\n",
       "1       1        3     4.0  2000\n",
       "2       1        6     4.0  2000\n",
       "3       1       47     5.0  2000\n",
       "4       1       50     5.0  2000"
      ]
     },
     "execution_count": 4,
     "metadata": {},
     "output_type": "execute_result"
    }
   ],
   "source": [
    "df.drop(['timestamp', 'datetime'],axis=1, inplace=True)\n",
    "df.head(5)"
   ]
  },
  {
   "cell_type": "code",
   "execution_count": 5,
   "metadata": {},
   "outputs": [
    {
     "data": {
      "image/png": "[encoded data removed]",
      "text/plain": [
       "<Figure size 1080x720 with 1 Axes>"
      ]
     },
     "metadata": {
      "needs_background": "light"
     },
     "output_type": "display_data"
    }
   ],
   "source": [
    "# Explore the rating distribution\n",
    "import matplotlib.pyplot as plt \n",
    "import numpy as np\n",
    "# visualize the rating column\n",
    "rating_type= df['rating'].value_counts()\n",
    "# Establish  figure size\n",
    "plt.figure(figsize=(15, 10))\n",
    "num_bars = len(rating_type)\n",
    "colors = plt.cm.viridis(np.linspace(0, 1, num_bars)) \n",
    "# Plot the data\n",
    "rating_type.plot(kind='bar', color=colors)\n",
    "\n",
    "# Label the plot\n",
    "plt.title(\"Distribution of Ratings\")\n",
    "plt.xlabel(\"Rating\")\n",
    "plt.ylabel(\"Frequency\")\n",
    "\n",
    "# Show the plot\n",
    "plt.show()"
   ]
  },
  {
   "cell_type": "markdown",
   "metadata": {},
   "source": [
    "# Rating Distribution \n",
    "Rating are either implicit or explicit. Explicit ratings/feedback occurs when users directly rates the item for example giving a news item the thumbs down. In this case the explicit rating is on a scale 0-5.  Implicit rating/feedback makes assumptions about a user's preference based on their actions towards items for example how long the user interacted with the movies.\n",
    "\n",
    "The data distributed indicates a positive ratings of movies  are more common. These higher ratings suggests that users are generally satisfied with the  movies. There may be a positive bias in the ratings. The data distibution and business task may influence the model's performance. \n",
    "."
   ]
  },
  {
   "cell_type": "code",
   "execution_count": 6,
   "metadata": {},
   "outputs": [
    {
     "name": "stdout",
     "output_type": "stream",
     "text": [
      "4.0    26.595660\n",
      "3.0    19.880797\n",
      "5.0    13.101472\n",
      "3.5    13.027093\n",
      "4.5     8.480106\n",
      "2.0     7.488397\n",
      "2.5     5.503987\n",
      "1.0     2.787695\n",
      "1.5     1.776151\n",
      "0.5     1.358642\n",
      "Name: rating, dtype: float64\n"
     ]
    }
   ],
   "source": [
    "# Calculate the percentage distribution of the rating column\n",
    "rating_percentages = df['rating'].value_counts(normalize=True) * 100\n",
    "\n",
    "# Display the percentages\n",
    "print(rating_percentages)"
   ]
  },
  {
   "cell_type": "code",
   "execution_count": 7,
   "metadata": {},
   "outputs": [
    {
     "data": {
      "image/png": "[encoded data removed]",
      "text/plain": [
       "<Figure size 432x288 with 1 Axes>"
      ]
     },
     "metadata": {},
     "output_type": "display_data"
    }
   ],
   "source": [
    "# Visualize the percentage rating \n",
    "rating_percentages.plot(kind='pie', autopct='%1.1f%%')\n",
    "\n",
    "plt.title(\"Distribution of Ratings (Percentage)\")\n",
    "plt.axis('equal')\n",
    "\n",
    "# Show the plot\n",
    "plt.show()"
   ]
  },
  {
   "cell_type": "markdown",
   "metadata": {},
   "source": [
    "# Ratings Percentage Distribution\n",
    "Percentage distribution of ratings skews toward higher ratings, which could be an indication of positive bias.\n",
    "\n",
    "* Ratings 4.0 and above: The combined percentage for ratings 4.0, 4.5, and 5.0 is about 48.17%. 4.0 (26.60%),\n",
    "* Ratingd 3.0 to 3.5:  Makes  up 32.91% of the ratings \n",
    "* Ratings below 3.0: Account for a much smaller portion of the ratings ( 18.91%). \n",
    "\n",
    "Implication of this postive bias will likely skew recommendations toward high-rated movies and may not truly reflect the users' diverse preferences.\n",
    "\n",
    "To address the issue the following strategies can be used .\n",
    "* Normalization of the ratings  to account for individual user bias toward higher ratings.\n",
    "* Regularization  of the ALS model to reduce the impact of extreme ratings."
   ]
  },
  {
   "cell_type": "markdown",
   "metadata": {},
   "source": [
    " # Distribution of ratings across users\n",
    "To understand the distribution of the number of ratings across many users the histogram will be used "
   ]
  },
  {
   "cell_type": "code",
   "execution_count": 8,
   "metadata": {},
   "outputs": [
    {
     "data": {
      "image/png": "[encoded data removed]",
      "text/plain": [
       "<Figure size 1440x720 with 1 Axes>"
      ]
     },
     "metadata": {
      "needs_background": "light"
     },
     "output_type": "display_data"
    }
   ],
   "source": [
    "# Count the number of ratings per user\n",
    "gb_user=df['userId'].value_counts()\n",
    "# Plot the  distribution of the number of ratings by user\n",
    "plt.figure(figsize=(20, 10))\n",
    "plt.hist(gb_user, bins=40, color='skyblue', edgecolor='black')\n",
    "plt.title(\"Distribution of Number of Ratings per User\")\n",
    "plt.xlabel(\"Number of Ratings\")\n",
    "plt.ylabel(\"Number of Users\")\n",
    "plt.show()"
   ]
  },
  {
   "cell_type": "markdown",
   "metadata": {},
   "source": [
    "# Distribution of Ratings Across Users\n",
    "\n",
    "The majority of users fall into the first bin, suggesting that many users might have rated few movies. This suggest low engagement in terms of ratings. Since users maybe rating fewer items this maybe leading to sparse datasets. In contrast there are fewer user have with high rating engagements which could have a significant impact on the recommendation model. \n",
    "\n",
    " To address sparsity matrix factorization techniques like Alternating Least Squares will be used. "
   ]
  },
  {
   "cell_type": "code",
   "execution_count": 9,
   "metadata": {},
   "outputs": [
    {
     "data": {
      "image/png": "[encoded data removed]",
      "text/plain": [
       "<Figure size 720x576 with 1 Axes>"
      ]
     },
     "metadata": {
      "needs_background": "light"
     },
     "output_type": "display_data"
    },
    {
     "data": {
      "image/png": "[encoded data removed]",
      "text/plain": [
       "<Figure size 720x432 with 1 Axes>"
      ]
     },
     "metadata": {
      "needs_background": "light"
     },
     "output_type": "display_data"
    }
   ],
   "source": [
    "# Count the number of ratings per year\n",
    "gb_year=df['year'].value_counts().sort_index()\n",
    "# Plot the  distribution of the number of ratings by year\n",
    "plt.figure(figsize=(10, 8))\n",
    "\n",
    "ax=gb_year.plot(kind='bar',    linestyle='-',color='blue', edgecolor='black')\n",
    "\n",
    "for p in ax.patches:\n",
    "    ax.annotate(f'{int(p.get_height())}', \n",
    "                (p.get_x() + p.get_width() / 2., p.get_height()), \n",
    "                ha='center', va='center', xytext=(0, 10), textcoords='offset points')\n",
    "    # Plot a line graph to visualize the trend\n",
    "plt.figure(figsize=(10, 6))\n",
    "plt.plot(gb_year.index, gb_year.values, marker='o', linestyle='-', color='b')\n",
    "\n",
    "\n",
    "plt.title(\"Distribution of Number of Ratings per Year\")\n",
    "plt.xlabel(\"Year\")\n",
    "plt.ylabel(\"Number of Ratings\")\n",
    "plt.show()"
   ]
  },
  {
   "cell_type": "markdown",
   "metadata": {},
   "source": [
    "# Model selection\n",
    "\n",
    "To address the business problem collabiarative filtering approaches will be considered. \n",
    "\n",
    "## Collaborative filtering Approaches\n",
    "* User-based filtering- recommends items to the target user based on preferences of other users.\n",
    "* Item based filtering - recommends new items to the target user based on the user’s previous interactions with similar items\n",
    "* Model based CF Model-based approach creates a predictive machine learning model of the data. The present values in the utility matrix are used as the training data while predictions are made on the interactions that are yet to occur. \n",
    "\n",
    "Model based collaborative filtering will be used to address the business problem,  specifically  parks from MLlib. "
   ]
  },
  {
   "cell_type": "code",
   "execution_count": 10,
   "metadata": {},
   "outputs": [],
   "source": [
    "#Importing the required pyspark library \n",
    "from pyspark.sql import SparkSession  \n",
    "import numpy as np "
   ]
  },
  {
   "cell_type": "code",
   "execution_count": 11,
   "metadata": {},
   "outputs": [
    {
     "data": {
      "text/html": [
       "\n",
       "            <div>\n",
       "                <p><b>SparkSession - in-memory</b></p>\n",
       "                \n",
       "        <div>\n",
       "            <p><b>SparkContext</b></p>\n",
       "\n",
       "            <p><a href=\"http://LAPTOP-SU458AST.lan:4040\">Spark UI</a></p>\n",
       "\n",
       "            <dl>\n",
       "              <dt>Version</dt>\n",
       "                <dd><code>v3.5.2</code></dd>\n",
       "              <dt>Master</dt>\n",
       "                <dd><code>local[*]</code></dd>\n",
       "              <dt>AppName</dt>\n",
       "                <dd><code>Recommender</code></dd>\n",
       "            </dl>\n",
       "        </div>\n",
       "        \n",
       "            </div>\n",
       "        "
      ],
      "text/plain": [
       "<pyspark.sql.session.SparkSession at 0x253e7fac970>"
      ]
     },
     "execution_count": 11,
     "metadata": {},
     "output_type": "execute_result"
    }
   ],
   "source": [
    "from pyspark.sql import SparkSession \n",
    "# Initialize  spark session \n",
    " \n",
    "spark = SparkSession.builder.appName('Recommender').getOrCreate() \n",
    "spark"
   ]
  },
  {
   "cell_type": "markdown",
   "metadata": {},
   "source": [
    "# Load and prepare data"
   ]
  },
  {
   "cell_type": "code",
   "execution_count": 12,
   "metadata": {},
   "outputs": [
    {
     "name": "stdout",
     "output_type": "stream",
     "text": [
      "+------+-------+------+---------+\n",
      "|userId|movieId|rating|timestamp|\n",
      "+------+-------+------+---------+\n",
      "|     1|      1|   4.0|964982703|\n",
      "|     1|      3|   4.0|964981247|\n",
      "|     1|      6|   4.0|964982224|\n",
      "|     1|     47|   5.0|964983815|\n",
      "|     1|     50|   5.0|964982931|\n",
      "+------+-------+------+---------+\n",
      "only showing top 5 rows\n",
      "\n"
     ]
    }
   ],
   "source": [
    "# Read data from the ratings dataset . \n",
    "ratings_data = spark.read.csv('ratings.csv', inferSchema=True,header=True) \n",
    "ratings_data.show(5) "
   ]
  },
  {
   "cell_type": "code",
   "execution_count": 13,
   "metadata": {},
   "outputs": [
    {
     "name": "stdout",
     "output_type": "stream",
     "text": [
      "+------+-------+------+----+\n",
      "|userId|movieId|rating|year|\n",
      "+------+-------+------+----+\n",
      "|     1|      1|   4.0|2000|\n",
      "|     1|      3|   4.0|2000|\n",
      "|     1|      6|   4.0|2000|\n",
      "|     1|     47|   5.0|2000|\n",
      "|     1|     50|   5.0|2000|\n",
      "+------+-------+------+----+\n",
      "only showing top 5 rows\n",
      "\n"
     ]
    }
   ],
   "source": [
    "from pyspark.sql.functions import from_unixtime, year\n",
    "\n",
    "# Convert  timestamp to year\n",
    "ratings_df = ratings_data.withColumn('year', year(from_unixtime('timestamp'))).drop('timestamp')\n",
    "\n",
    "# Show the result\n",
    "ratings_df.show(5)"
   ]
  },
  {
   "cell_type": "code",
   "execution_count": 14,
   "metadata": {},
   "outputs": [
    {
     "name": "stdout",
     "output_type": "stream",
     "text": [
      "+-------+------------------+----------------+------------------+------------------+\n",
      "|summary|            userId|         movieId|            rating|              year|\n",
      "+-------+------------------+----------------+------------------+------------------+\n",
      "|  count|            100836|          100836|            100836|            100836|\n",
      "|   mean|326.12756356856676|19435.2957177992| 3.501556983616962|2007.7226189059463|\n",
      "| stddev| 182.6184914635004|35530.9871987003|1.0425292390606342| 6.890283870015307|\n",
      "|    min|                 1|               1|               0.5|              1996|\n",
      "|    max|               610|          193609|               5.0|              2018|\n",
      "+-------+------------------+----------------+------------------+------------------+\n",
      "\n"
     ]
    }
   ],
   "source": [
    "# Describe dataset\n",
    "ratings_df.describe().show()"
   ]
  },
  {
   "cell_type": "markdown",
   "metadata": {},
   "source": [
    "All 100,836 movie entries have a rating, with maximum rating of 5 and minimum of 0.5. There are 610 user ids indicating that users are rating multiple movies.The average rating is 3.5."
   ]
  },
  {
   "cell_type": "code",
   "execution_count": 15,
   "metadata": {},
   "outputs": [
    {
     "name": "stdout",
     "output_type": "stream",
     "text": [
      "+-------+--------------------+--------------------+\n",
      "|movieId|               title|              genres|\n",
      "+-------+--------------------+--------------------+\n",
      "|      1|    Toy Story (1995)|Adventure|Animati...|\n",
      "|      2|      Jumanji (1995)|Adventure|Childre...|\n",
      "|      3|Grumpier Old Men ...|      Comedy|Romance|\n",
      "|      4|Waiting to Exhale...|Comedy|Drama|Romance|\n",
      "|      5|Father of the Bri...|              Comedy|\n",
      "+-------+--------------------+--------------------+\n",
      "only showing top 5 rows\n",
      "\n"
     ]
    }
   ],
   "source": [
    "# Read data from the movies dataset . \n",
    "movies_data = spark.read.csv('movies.csv', inferSchema=True,header=True) \n",
    "movies_data=movies_data.na.drop()\n",
    "movies_data.show(5) "
   ]
  },
  {
   "cell_type": "markdown",
   "metadata": {},
   "source": [
    "\n",
    "# Train A Model\n",
    "\n",
    "## Import the Alternating Least Squares(ALS) Method and apply it.\n",
    "\n",
    "\n",
    "* rank: the number of latent factors in the model (defaults to 10).\n",
    "* maxIter:  is the maximum number of iterations to run (defaults to 10).\n",
    "* regParam: specifies the regularization parameter in ALS (defaults to 1.0).\n",
    "* implicitPrefs:  specifies whether to use the explicit feedback or  implicit feedback data (defaults to false - means using explicit feedback).\n",
    "* nonnegative: specifies whether or not to use nonnegative constraints for least squares (defaults to false)."
   ]
  },
  {
   "cell_type": "code",
   "execution_count": 16,
   "metadata": {},
   "outputs": [],
   "source": [
    "# Split and train  ratings dataset\n",
    "# Dividing the data using random split into train_data 80%  and test_data 20%  \n",
    "train_data, test_data = ratings_df.randomSplit([0.8, 0.2])"
   ]
  },
  {
   "cell_type": "code",
   "execution_count": 17,
   "metadata": {},
   "outputs": [],
   "source": [
    "# Import the Alternating Least Squares(ALS) Method and apply it.\n",
    "from pyspark.ml.recommendation import ALS \n",
    "# Build the recommendation model using ALS  default params on the training data \n",
    "als = ALS( coldStartStrategy=\"drop\", # to address cold start problem \n",
    "          userCol=\"userId\",\n",
    "          itemCol=\"movieId\", \n",
    "          ratingCol=\"rating\",\n",
    "          seed=42) \n",
    "\n",
    "#Fitting the model on the train_data \n",
    "model = als.fit(train_data)"
   ]
  },
  {
   "cell_type": "markdown",
   "metadata": {},
   "source": [
    "# Cold Start Strategy\n",
    "Cold start issues arise when there is insufficient data to match users with items. This can happen in several situations\n",
    "* new users or items that have no rating history and on which the model has not been trained\n",
    "* encounter users and/or items in the evaluation set that are not in the training set\n",
    "* sparse interaction as some users or items may be present in the training data but have very few interactions\n",
    "\n",
    "These situtions can result in poor generalization, weak predictions, and potential overfitting on items with high user interactions. to address the issue  coldStartStrategy=\"drop\"  to remove any rows in the DataFrame of predictions that contain NaN values."
   ]
  },
  {
   "cell_type": "markdown",
   "metadata": {},
   "source": [
    "# Make Predictions with  Model\n",
    "The trained model can be used to predict ratings with a given test data."
   ]
  },
  {
   "cell_type": "code",
   "execution_count": 18,
   "metadata": {},
   "outputs": [
    {
     "name": "stdout",
     "output_type": "stream",
     "text": [
      "+------+-------+------+----+----------+\n",
      "|userId|movieId|rating|year|prediction|\n",
      "+------+-------+------+----+----------+\n",
      "|   463|   1088|   3.5|2006| 3.2969856|\n",
      "|   137|   1580|   3.5|2008|  2.967803|\n",
      "|   580|   1580|   4.0|2007|  3.565384|\n",
      "|   133|    471|   4.0|1996|  2.992971|\n",
      "|   597|    471|   2.0|1999| 4.4672985|\n",
      "+------+-------+------+----+----------+\n",
      "only showing top 5 rows\n",
      "\n"
     ]
    }
   ],
   "source": [
    "# Create predictions on the test data \n",
    "predictions = model.transform(test_data) \n",
    "\n",
    "#Displaying predictions calculated by the model \n",
    "predictions.show(5)"
   ]
  },
  {
   "cell_type": "markdown",
   "metadata": {},
   "source": [
    "# Predictions \n",
    "* For higher actual ratings (e.g., 5. the model tends to predict lower values (e.g., 3.52). This suggests the model might not fully capture the user’s strong preference for certain items, leading to underprediction.\n",
    "\n",
    "* For lower actual ratings (e.g., 2.0 or 2.5), the model sometimes predicts higher values (e.g., 3.72 or 1.01). This might indicate that the model is overestimating the user’s interest in some items, particularly for lower ratings.\n",
    "\n",
    "* The model seems to perform reasonably well for mid-range ratings (e.g., 3.5)"
   ]
  },
  {
   "cell_type": "markdown",
   "metadata": {},
   "source": [
    "# Model Evaluations"
   ]
  },
  {
   "cell_type": "code",
   "execution_count": 19,
   "metadata": {},
   "outputs": [
    {
     "name": "stdout",
     "output_type": "stream",
     "text": [
      "Root Mean Square Error RMSE = 0.8826576786973522\n",
      "Mean Absolute Error (MAE) = 0.6787120202001515\n"
     ]
    }
   ],
   "source": [
    "from pyspark.ml.evaluation import RegressionEvaluator \n",
    "\n",
    "#Create evaluator for each metric \n",
    "rmse_evaluator = RegressionEvaluator(metricName=\"rmse\", labelCol=\"rating\",predictionCol=\"prediction\") \n",
    "mae_evaluator = RegressionEvaluator(metricName=\"mae\", labelCol=\"rating\", predictionCol=\"prediction\")\n",
    "\n",
    "\n",
    "# Calculate the metrics\n",
    "rmse = rmse_evaluator.evaluate(predictions)\n",
    "mae = mae_evaluator.evaluate(predictions)\n",
    "\n",
    "# Print the results\n",
    "print(\"Root Mean Square Error RMSE = \" + str(rmse))\n",
    "\n",
    "print(\"Mean Absolute Error (MAE) = \"+ str(mae))\n"
   ]
  },
  {
   "cell_type": "markdown",
   "metadata": {},
   "source": [
    "Interpretation\n",
    "\n",
    "The evaluation metrics measure the accuracy of the model's prediction.\n",
    "\n",
    " RMSE = 0.88\n",
    " \n",
    "* The root mean square error penalizes larger errors more than smaller errors, therefore a smaller RMSE is a more accurate measure when the goal is to minimize the effects of large errors. \n",
    "\n",
    "* RMSE provides a sense of how far the predictions are from the actual values. \n",
    "    \n",
    "MAE=0.68\n",
    " \n",
    "* Mean absolute errors MAE measures the averages of the absolute differences between predicted and actual values, without penalizing larger errors more.\n",
    "* Lower MAE measure indicates a better performing model.\n",
    "    \n",
    "The model performance indicates there maybe some errors in the predictions. To address the issue the model will be hypertuned to find the best parameters. "
   ]
  },
  {
   "cell_type": "code",
   "execution_count": null,
   "metadata": {},
   "outputs": [],
   "source": []
  }
 ],
 "metadata": {
  "kernelspec": {
   "display_name": "Python (learn-env)",
   "language": "python",
   "name": "learn-env"
  },
  "language_info": {
   "codemirror_mode": {
    "name": "ipython",
    "version": 3
   },
   "file_extension": ".py",
   "mimetype": "text/x-python",
   "name": "python",
   "nbconvert_exporter": "python",
   "pygments_lexer": "ipython3",
   "version": "3.8.5"
  }
 },
 "nbformat": 4,
 "nbformat_minor": 4
}
